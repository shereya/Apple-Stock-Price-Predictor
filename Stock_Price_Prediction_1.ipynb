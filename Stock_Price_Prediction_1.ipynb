{
  "nbformat": 4,
  "nbformat_minor": 0,
  "metadata": {
    "colab": {
      "provenance": []
    },
    "kernelspec": {
      "name": "python3",
      "display_name": "Python 3"
    },
    "language_info": {
      "name": "python"
    }
  },
  "cells": [
    {
      "cell_type": "code",
      "execution_count": 2,
      "metadata": {
        "id": "sph2fSDsCy3G"
      },
      "outputs": [],
      "source": [
        "#Predicting the price of a stock using Long Term Short Memory using 60 days data"
      ]
    },
    {
      "cell_type": "code",
      "source": [
        "import math\n",
        "import pandas_datareader as web #API Not Working\n",
        "import numpy as np\n",
        "import pandas as pd\n",
        "from sklearn.preprocessing import MinMaxScaler\n",
        "from keras.models import Sequential\n",
        "from keras.layers import Dense, LSTM\n",
        "import matplotlib.pyplot as plt\n",
        "from datetime import datetime"
      ],
      "metadata": {
        "id": "cZgaIfz5DJNY"
      },
      "execution_count": 15,
      "outputs": []
    },
    {
      "cell_type": "code",
      "source": [
        "df = pd.read_csv(\"/content/AAPL.csv\")\n",
        "df"
      ],
      "metadata": {
        "colab": {
          "base_uri": "https://localhost:8080/",
          "height": 424
        },
        "id": "H3Hg-2MHHbq4",
        "outputId": "94ba274c-11aa-4d66-cb00-eaf27ae1dcb7"
      },
      "execution_count": 34,
      "outputs": [
        {
          "output_type": "execute_result",
          "data": {
            "text/plain": [
              "            Date        Open        High         Low       Close   Adj Close  \\\n",
              "0     2012-01-17   15.150000   15.213929   15.105714   15.167857   12.857485   \n",
              "1     2012-01-18   15.248571   15.338214   15.225000   15.325357   12.990997   \n",
              "2     2012-01-19   15.362500   15.406071   15.232500   15.276786   12.949821   \n",
              "3     2012-01-20   15.267500   15.267857   14.991071   15.010714   12.724276   \n",
              "4     2012-01-23   15.095357   15.301786   15.082143   15.264643   12.939530   \n",
              "...          ...         ...         ...         ...         ...         ...   \n",
              "3014  2024-01-09  183.919998  185.149994  182.729996  185.139999  185.139999   \n",
              "3015  2024-01-10  184.350006  186.399994  183.919998  186.190002  186.190002   \n",
              "3016  2024-01-11  186.539993  187.050003  183.619995  185.589996  185.589996   \n",
              "3017  2024-01-12  186.059998  186.740005  185.190002  185.919998  185.919998   \n",
              "3018  2024-01-16  182.160004  184.259995  180.929993  183.630005  183.630005   \n",
              "\n",
              "         Volume  \n",
              "0     242897200  \n",
              "1     276791200  \n",
              "2     261738400  \n",
              "3     413974400  \n",
              "4     306062400  \n",
              "...         ...  \n",
              "3014   42841800  \n",
              "3015   46792900  \n",
              "3016   49128400  \n",
              "3017   40444700  \n",
              "3018   65562600  \n",
              "\n",
              "[3019 rows x 7 columns]"
            ],
            "text/html": [
              "\n",
              "  <div id=\"df-30a630a2-6c2a-493e-9ff1-230da4fe928c\" class=\"colab-df-container\">\n",
              "    <div>\n",
              "<style scoped>\n",
              "    .dataframe tbody tr th:only-of-type {\n",
              "        vertical-align: middle;\n",
              "    }\n",
              "\n",
              "    .dataframe tbody tr th {\n",
              "        vertical-align: top;\n",
              "    }\n",
              "\n",
              "    .dataframe thead th {\n",
              "        text-align: right;\n",
              "    }\n",
              "</style>\n",
              "<table border=\"1\" class=\"dataframe\">\n",
              "  <thead>\n",
              "    <tr style=\"text-align: right;\">\n",
              "      <th></th>\n",
              "      <th>Date</th>\n",
              "      <th>Open</th>\n",
              "      <th>High</th>\n",
              "      <th>Low</th>\n",
              "      <th>Close</th>\n",
              "      <th>Adj Close</th>\n",
              "      <th>Volume</th>\n",
              "    </tr>\n",
              "  </thead>\n",
              "  <tbody>\n",
              "    <tr>\n",
              "      <th>0</th>\n",
              "      <td>2012-01-17</td>\n",
              "      <td>15.150000</td>\n",
              "      <td>15.213929</td>\n",
              "      <td>15.105714</td>\n",
              "      <td>15.167857</td>\n",
              "      <td>12.857485</td>\n",
              "      <td>242897200</td>\n",
              "    </tr>\n",
              "    <tr>\n",
              "      <th>1</th>\n",
              "      <td>2012-01-18</td>\n",
              "      <td>15.248571</td>\n",
              "      <td>15.338214</td>\n",
              "      <td>15.225000</td>\n",
              "      <td>15.325357</td>\n",
              "      <td>12.990997</td>\n",
              "      <td>276791200</td>\n",
              "    </tr>\n",
              "    <tr>\n",
              "      <th>2</th>\n",
              "      <td>2012-01-19</td>\n",
              "      <td>15.362500</td>\n",
              "      <td>15.406071</td>\n",
              "      <td>15.232500</td>\n",
              "      <td>15.276786</td>\n",
              "      <td>12.949821</td>\n",
              "      <td>261738400</td>\n",
              "    </tr>\n",
              "    <tr>\n",
              "      <th>3</th>\n",
              "      <td>2012-01-20</td>\n",
              "      <td>15.267500</td>\n",
              "      <td>15.267857</td>\n",
              "      <td>14.991071</td>\n",
              "      <td>15.010714</td>\n",
              "      <td>12.724276</td>\n",
              "      <td>413974400</td>\n",
              "    </tr>\n",
              "    <tr>\n",
              "      <th>4</th>\n",
              "      <td>2012-01-23</td>\n",
              "      <td>15.095357</td>\n",
              "      <td>15.301786</td>\n",
              "      <td>15.082143</td>\n",
              "      <td>15.264643</td>\n",
              "      <td>12.939530</td>\n",
              "      <td>306062400</td>\n",
              "    </tr>\n",
              "    <tr>\n",
              "      <th>...</th>\n",
              "      <td>...</td>\n",
              "      <td>...</td>\n",
              "      <td>...</td>\n",
              "      <td>...</td>\n",
              "      <td>...</td>\n",
              "      <td>...</td>\n",
              "      <td>...</td>\n",
              "    </tr>\n",
              "    <tr>\n",
              "      <th>3014</th>\n",
              "      <td>2024-01-09</td>\n",
              "      <td>183.919998</td>\n",
              "      <td>185.149994</td>\n",
              "      <td>182.729996</td>\n",
              "      <td>185.139999</td>\n",
              "      <td>185.139999</td>\n",
              "      <td>42841800</td>\n",
              "    </tr>\n",
              "    <tr>\n",
              "      <th>3015</th>\n",
              "      <td>2024-01-10</td>\n",
              "      <td>184.350006</td>\n",
              "      <td>186.399994</td>\n",
              "      <td>183.919998</td>\n",
              "      <td>186.190002</td>\n",
              "      <td>186.190002</td>\n",
              "      <td>46792900</td>\n",
              "    </tr>\n",
              "    <tr>\n",
              "      <th>3016</th>\n",
              "      <td>2024-01-11</td>\n",
              "      <td>186.539993</td>\n",
              "      <td>187.050003</td>\n",
              "      <td>183.619995</td>\n",
              "      <td>185.589996</td>\n",
              "      <td>185.589996</td>\n",
              "      <td>49128400</td>\n",
              "    </tr>\n",
              "    <tr>\n",
              "      <th>3017</th>\n",
              "      <td>2024-01-12</td>\n",
              "      <td>186.059998</td>\n",
              "      <td>186.740005</td>\n",
              "      <td>185.190002</td>\n",
              "      <td>185.919998</td>\n",
              "      <td>185.919998</td>\n",
              "      <td>40444700</td>\n",
              "    </tr>\n",
              "    <tr>\n",
              "      <th>3018</th>\n",
              "      <td>2024-01-16</td>\n",
              "      <td>182.160004</td>\n",
              "      <td>184.259995</td>\n",
              "      <td>180.929993</td>\n",
              "      <td>183.630005</td>\n",
              "      <td>183.630005</td>\n",
              "      <td>65562600</td>\n",
              "    </tr>\n",
              "  </tbody>\n",
              "</table>\n",
              "<p>3019 rows × 7 columns</p>\n",
              "</div>\n",
              "    <div class=\"colab-df-buttons\">\n",
              "\n",
              "  <div class=\"colab-df-container\">\n",
              "    <button class=\"colab-df-convert\" onclick=\"convertToInteractive('df-30a630a2-6c2a-493e-9ff1-230da4fe928c')\"\n",
              "            title=\"Convert this dataframe to an interactive table.\"\n",
              "            style=\"display:none;\">\n",
              "\n",
              "  <svg xmlns=\"http://www.w3.org/2000/svg\" height=\"24px\" viewBox=\"0 -960 960 960\">\n",
              "    <path d=\"M120-120v-720h720v720H120Zm60-500h600v-160H180v160Zm220 220h160v-160H400v160Zm0 220h160v-160H400v160ZM180-400h160v-160H180v160Zm440 0h160v-160H620v160ZM180-180h160v-160H180v160Zm440 0h160v-160H620v160Z\"/>\n",
              "  </svg>\n",
              "    </button>\n",
              "\n",
              "  <style>\n",
              "    .colab-df-container {\n",
              "      display:flex;\n",
              "      gap: 12px;\n",
              "    }\n",
              "\n",
              "    .colab-df-convert {\n",
              "      background-color: #E8F0FE;\n",
              "      border: none;\n",
              "      border-radius: 50%;\n",
              "      cursor: pointer;\n",
              "      display: none;\n",
              "      fill: #1967D2;\n",
              "      height: 32px;\n",
              "      padding: 0 0 0 0;\n",
              "      width: 32px;\n",
              "    }\n",
              "\n",
              "    .colab-df-convert:hover {\n",
              "      background-color: #E2EBFA;\n",
              "      box-shadow: 0px 1px 2px rgba(60, 64, 67, 0.3), 0px 1px 3px 1px rgba(60, 64, 67, 0.15);\n",
              "      fill: #174EA6;\n",
              "    }\n",
              "\n",
              "    .colab-df-buttons div {\n",
              "      margin-bottom: 4px;\n",
              "    }\n",
              "\n",
              "    [theme=dark] .colab-df-convert {\n",
              "      background-color: #3B4455;\n",
              "      fill: #D2E3FC;\n",
              "    }\n",
              "\n",
              "    [theme=dark] .colab-df-convert:hover {\n",
              "      background-color: #434B5C;\n",
              "      box-shadow: 0px 1px 3px 1px rgba(0, 0, 0, 0.15);\n",
              "      filter: drop-shadow(0px 1px 2px rgba(0, 0, 0, 0.3));\n",
              "      fill: #FFFFFF;\n",
              "    }\n",
              "  </style>\n",
              "\n",
              "    <script>\n",
              "      const buttonEl =\n",
              "        document.querySelector('#df-30a630a2-6c2a-493e-9ff1-230da4fe928c button.colab-df-convert');\n",
              "      buttonEl.style.display =\n",
              "        google.colab.kernel.accessAllowed ? 'block' : 'none';\n",
              "\n",
              "      async function convertToInteractive(key) {\n",
              "        const element = document.querySelector('#df-30a630a2-6c2a-493e-9ff1-230da4fe928c');\n",
              "        const dataTable =\n",
              "          await google.colab.kernel.invokeFunction('convertToInteractive',\n",
              "                                                    [key], {});\n",
              "        if (!dataTable) return;\n",
              "\n",
              "        const docLinkHtml = 'Like what you see? Visit the ' +\n",
              "          '<a target=\"_blank\" href=https://colab.research.google.com/notebooks/data_table.ipynb>data table notebook</a>'\n",
              "          + ' to learn more about interactive tables.';\n",
              "        element.innerHTML = '';\n",
              "        dataTable['output_type'] = 'display_data';\n",
              "        await google.colab.output.renderOutput(dataTable, element);\n",
              "        const docLink = document.createElement('div');\n",
              "        docLink.innerHTML = docLinkHtml;\n",
              "        element.appendChild(docLink);\n",
              "      }\n",
              "    </script>\n",
              "  </div>\n",
              "\n",
              "\n",
              "<div id=\"df-9d39042b-133b-4a5f-af60-7ac090da26cd\">\n",
              "  <button class=\"colab-df-quickchart\" onclick=\"quickchart('df-9d39042b-133b-4a5f-af60-7ac090da26cd')\"\n",
              "            title=\"Suggest charts\"\n",
              "            style=\"display:none;\">\n",
              "\n",
              "<svg xmlns=\"http://www.w3.org/2000/svg\" height=\"24px\"viewBox=\"0 0 24 24\"\n",
              "     width=\"24px\">\n",
              "    <g>\n",
              "        <path d=\"M19 3H5c-1.1 0-2 .9-2 2v14c0 1.1.9 2 2 2h14c1.1 0 2-.9 2-2V5c0-1.1-.9-2-2-2zM9 17H7v-7h2v7zm4 0h-2V7h2v10zm4 0h-2v-4h2v4z\"/>\n",
              "    </g>\n",
              "</svg>\n",
              "  </button>\n",
              "\n",
              "<style>\n",
              "  .colab-df-quickchart {\n",
              "      --bg-color: #E8F0FE;\n",
              "      --fill-color: #1967D2;\n",
              "      --hover-bg-color: #E2EBFA;\n",
              "      --hover-fill-color: #174EA6;\n",
              "      --disabled-fill-color: #AAA;\n",
              "      --disabled-bg-color: #DDD;\n",
              "  }\n",
              "\n",
              "  [theme=dark] .colab-df-quickchart {\n",
              "      --bg-color: #3B4455;\n",
              "      --fill-color: #D2E3FC;\n",
              "      --hover-bg-color: #434B5C;\n",
              "      --hover-fill-color: #FFFFFF;\n",
              "      --disabled-bg-color: #3B4455;\n",
              "      --disabled-fill-color: #666;\n",
              "  }\n",
              "\n",
              "  .colab-df-quickchart {\n",
              "    background-color: var(--bg-color);\n",
              "    border: none;\n",
              "    border-radius: 50%;\n",
              "    cursor: pointer;\n",
              "    display: none;\n",
              "    fill: var(--fill-color);\n",
              "    height: 32px;\n",
              "    padding: 0;\n",
              "    width: 32px;\n",
              "  }\n",
              "\n",
              "  .colab-df-quickchart:hover {\n",
              "    background-color: var(--hover-bg-color);\n",
              "    box-shadow: 0 1px 2px rgba(60, 64, 67, 0.3), 0 1px 3px 1px rgba(60, 64, 67, 0.15);\n",
              "    fill: var(--button-hover-fill-color);\n",
              "  }\n",
              "\n",
              "  .colab-df-quickchart-complete:disabled,\n",
              "  .colab-df-quickchart-complete:disabled:hover {\n",
              "    background-color: var(--disabled-bg-color);\n",
              "    fill: var(--disabled-fill-color);\n",
              "    box-shadow: none;\n",
              "  }\n",
              "\n",
              "  .colab-df-spinner {\n",
              "    border: 2px solid var(--fill-color);\n",
              "    border-color: transparent;\n",
              "    border-bottom-color: var(--fill-color);\n",
              "    animation:\n",
              "      spin 1s steps(1) infinite;\n",
              "  }\n",
              "\n",
              "  @keyframes spin {\n",
              "    0% {\n",
              "      border-color: transparent;\n",
              "      border-bottom-color: var(--fill-color);\n",
              "      border-left-color: var(--fill-color);\n",
              "    }\n",
              "    20% {\n",
              "      border-color: transparent;\n",
              "      border-left-color: var(--fill-color);\n",
              "      border-top-color: var(--fill-color);\n",
              "    }\n",
              "    30% {\n",
              "      border-color: transparent;\n",
              "      border-left-color: var(--fill-color);\n",
              "      border-top-color: var(--fill-color);\n",
              "      border-right-color: var(--fill-color);\n",
              "    }\n",
              "    40% {\n",
              "      border-color: transparent;\n",
              "      border-right-color: var(--fill-color);\n",
              "      border-top-color: var(--fill-color);\n",
              "    }\n",
              "    60% {\n",
              "      border-color: transparent;\n",
              "      border-right-color: var(--fill-color);\n",
              "    }\n",
              "    80% {\n",
              "      border-color: transparent;\n",
              "      border-right-color: var(--fill-color);\n",
              "      border-bottom-color: var(--fill-color);\n",
              "    }\n",
              "    90% {\n",
              "      border-color: transparent;\n",
              "      border-bottom-color: var(--fill-color);\n",
              "    }\n",
              "  }\n",
              "</style>\n",
              "\n",
              "  <script>\n",
              "    async function quickchart(key) {\n",
              "      const quickchartButtonEl =\n",
              "        document.querySelector('#' + key + ' button');\n",
              "      quickchartButtonEl.disabled = true;  // To prevent multiple clicks.\n",
              "      quickchartButtonEl.classList.add('colab-df-spinner');\n",
              "      try {\n",
              "        const charts = await google.colab.kernel.invokeFunction(\n",
              "            'suggestCharts', [key], {});\n",
              "      } catch (error) {\n",
              "        console.error('Error during call to suggestCharts:', error);\n",
              "      }\n",
              "      quickchartButtonEl.classList.remove('colab-df-spinner');\n",
              "      quickchartButtonEl.classList.add('colab-df-quickchart-complete');\n",
              "    }\n",
              "    (() => {\n",
              "      let quickchartButtonEl =\n",
              "        document.querySelector('#df-9d39042b-133b-4a5f-af60-7ac090da26cd button');\n",
              "      quickchartButtonEl.style.display =\n",
              "        google.colab.kernel.accessAllowed ? 'block' : 'none';\n",
              "    })();\n",
              "  </script>\n",
              "</div>\n",
              "\n",
              "  <div id=\"id_21e064d8-757d-4e62-9cf3-ba9dc47127bd\">\n",
              "    <style>\n",
              "      .colab-df-generate {\n",
              "        background-color: #E8F0FE;\n",
              "        border: none;\n",
              "        border-radius: 50%;\n",
              "        cursor: pointer;\n",
              "        display: none;\n",
              "        fill: #1967D2;\n",
              "        height: 32px;\n",
              "        padding: 0 0 0 0;\n",
              "        width: 32px;\n",
              "      }\n",
              "\n",
              "      .colab-df-generate:hover {\n",
              "        background-color: #E2EBFA;\n",
              "        box-shadow: 0px 1px 2px rgba(60, 64, 67, 0.3), 0px 1px 3px 1px rgba(60, 64, 67, 0.15);\n",
              "        fill: #174EA6;\n",
              "      }\n",
              "\n",
              "      [theme=dark] .colab-df-generate {\n",
              "        background-color: #3B4455;\n",
              "        fill: #D2E3FC;\n",
              "      }\n",
              "\n",
              "      [theme=dark] .colab-df-generate:hover {\n",
              "        background-color: #434B5C;\n",
              "        box-shadow: 0px 1px 3px 1px rgba(0, 0, 0, 0.15);\n",
              "        filter: drop-shadow(0px 1px 2px rgba(0, 0, 0, 0.3));\n",
              "        fill: #FFFFFF;\n",
              "      }\n",
              "    </style>\n",
              "    <button class=\"colab-df-generate\" onclick=\"generateWithVariable('df')\"\n",
              "            title=\"Generate code using this dataframe.\"\n",
              "            style=\"display:none;\">\n",
              "\n",
              "  <svg xmlns=\"http://www.w3.org/2000/svg\" height=\"24px\"viewBox=\"0 0 24 24\"\n",
              "       width=\"24px\">\n",
              "    <path d=\"M7,19H8.4L18.45,9,17,7.55,7,17.6ZM5,21V16.75L18.45,3.32a2,2,0,0,1,2.83,0l1.4,1.43a1.91,1.91,0,0,1,.58,1.4,1.91,1.91,0,0,1-.58,1.4L9.25,21ZM18.45,9,17,7.55Zm-12,3A5.31,5.31,0,0,0,4.9,8.1,5.31,5.31,0,0,0,1,6.5,5.31,5.31,0,0,0,4.9,4.9,5.31,5.31,0,0,0,6.5,1,5.31,5.31,0,0,0,8.1,4.9,5.31,5.31,0,0,0,12,6.5,5.46,5.46,0,0,0,6.5,12Z\"/>\n",
              "  </svg>\n",
              "    </button>\n",
              "    <script>\n",
              "      (() => {\n",
              "      const buttonEl =\n",
              "        document.querySelector('#id_21e064d8-757d-4e62-9cf3-ba9dc47127bd button.colab-df-generate');\n",
              "      buttonEl.style.display =\n",
              "        google.colab.kernel.accessAllowed ? 'block' : 'none';\n",
              "\n",
              "      buttonEl.onclick = () => {\n",
              "        google.colab.notebook.generateWithVariable('df');\n",
              "      }\n",
              "      })();\n",
              "    </script>\n",
              "  </div>\n",
              "\n",
              "    </div>\n",
              "  </div>\n"
            ]
          },
          "metadata": {},
          "execution_count": 34
        }
      ]
    },
    {
      "cell_type": "code",
      "source": [
        "#Understand the structure of the data\n",
        "df.shape"
      ],
      "metadata": {
        "colab": {
          "base_uri": "https://localhost:8080/"
        },
        "id": "zOf_8MZcNoVx",
        "outputId": "46a41aca-dfdc-4e95-c787-7f25cc8b91fa"
      },
      "execution_count": 24,
      "outputs": [
        {
          "output_type": "execute_result",
          "data": {
            "text/plain": [
              "(3019, 7)"
            ]
          },
          "metadata": {},
          "execution_count": 24
        }
      ]
    },
    {
      "cell_type": "code",
      "source": [
        "#Visualise the closing price history\n",
        "plt.title('Close Price History')\n",
        "plt.plot(df['Date'],df['Close'])\n",
        "plt.xlabel('Date',fontsize=18)\n",
        "plt.ylabel('Closing Price in USD',fontsize=18)\n",
        "plt.show()"
      ],
      "metadata": {
        "colab": {
          "base_uri": "https://localhost:8080/",
          "height": 482
        },
        "id": "7yAZ78zGN-MG",
        "outputId": "1a66a27d-1d38-4996-d11d-f375087f656a"
      },
      "execution_count": 33,
      "outputs": [
        {
          "output_type": "display_data",
          "data": {
            "text/plain": [
              "<Figure size 640x480 with 1 Axes>"
            ],
            "image/png": "[encoded data removed]"
          },
          "metadata": {}
        }
      ]
    },
    {
      "cell_type": "code",
      "source": [
        "#Create new df only with Close column\n",
        "data = df['Close']\n",
        "#Create data to numpy array\n",
        "dataset = data.values\n",
        "#Convert dataset to 2D array as fit_transform takes in 2D array as input\n",
        "dataset = dataset.reshape(-1,1)\n",
        "#print(dataset)\n",
        "#print(dataset.shape)\n",
        "#Get the number of rows to train the data on\n",
        "training_data_len = math.ceil(len(dataset)*0.8)"
      ],
      "metadata": {
        "colab": {
          "base_uri": "https://localhost:8080/"
        },
        "id": "xP_9tWn_QBvb",
        "outputId": "7429cd07-61ec-48f4-d421-a40c27202e36"
      },
      "execution_count": 62,
      "outputs": [
        {
          "output_type": "stream",
          "name": "stdout",
          "text": [
            "0        15.167857\n",
            "1        15.325357\n",
            "2        15.276786\n",
            "3        15.010714\n",
            "4        15.264643\n",
            "           ...    \n",
            "3014    185.139999\n",
            "3015    186.190002\n",
            "3016    185.589996\n",
            "3017    185.919998\n",
            "3018    183.630005\n",
            "Name: Close, Length: 3019, dtype: float64\n",
            "[[ 15.167857]\n",
            " [ 15.325357]\n",
            " [ 15.276786]\n",
            " ...\n",
            " [185.589996]\n",
            " [185.919998]\n",
            " [183.630005]]\n",
            "(3019, 1)\n"
          ]
        }
      ]
    },
    {
      "cell_type": "code",
      "source": [
        "#Scale the data\n",
        "scaler = MinMaxScaler(feature_range=(0,1))\n",
        "scaled_data = scaler.fit_transform(dataset)\n",
        "scaled_data"
      ],
      "metadata": {
        "colab": {
          "base_uri": "https://localhost:8080/"
        },
        "id": "cmZuR0vfQ8sw",
        "outputId": "9dd9d0d5-209d-4a0b-c871-35d6e053a78c"
      },
      "execution_count": 64,
      "outputs": [
        {
          "output_type": "execute_result",
          "data": {
            "text/plain": [
              "array([[0.00662652],\n",
              "       [0.00748175],\n",
              "       [0.00721801],\n",
              "       ...,\n",
              "       [0.93201653],\n",
              "       [0.93380844],\n",
              "       [0.92137381]])"
            ]
          },
          "metadata": {},
          "execution_count": 64
        }
      ]
    },
    {
      "cell_type": "code",
      "source": [
        "#Create training data set - past 60 days dataset\n",
        "train_data = scaled_data[0:training_data_len,:]\n",
        "#Split the data into x_train and y_train dataset\n",
        "x_train = [] #independent training features\n",
        "y_train = [] #target variables\n",
        "for i in range(60,len(train_data)):\n",
        "  x_train.append(train_data[i-60:i,0])\n",
        "  y_train.append(train_data[i,0])\n",
        "  if i <=61:\n",
        "    print(x_train)\n",
        "    print(y_train)\n",
        "    print()"
      ],
      "metadata": {
        "colab": {
          "base_uri": "https://localhost:8080/"
        },
        "id": "YrbQM2U-VQvv",
        "outputId": "572f2ac4-2b97-4742-ca67-263de2e8bfcb"
      },
      "execution_count": 66,
      "outputs": [
        {
          "output_type": "stream",
          "name": "stdout",
          "text": [
            "[array([0.00662652, 0.00748175, 0.00721801, 0.00577324, 0.00715207,\n",
            "       0.00579457, 0.01088519, 0.01049151, 0.01100542, 0.01211663,\n",
            "       0.01278955, 0.01273332, 0.01252582, 0.01341013, 0.01424207,\n",
            "       0.01518457, 0.01670691, 0.01990478, 0.01995326, 0.02173353,\n",
            "       0.02306387, 0.02077747, 0.02165789, 0.02164044, 0.02410915,\n",
            "       0.02375813, 0.02440779, 0.02557523, 0.0262249 , 0.02809631,\n",
            "       0.02945961, 0.02985329, 0.02999099, 0.02765997, 0.02709757,\n",
            "       0.02718097, 0.02937236, 0.02998905, 0.03131358, 0.03443582,\n",
            "       0.03860139, 0.0378218 , 0.03782374, 0.04083544, 0.04177794,\n",
            "       0.04110694, 0.04049413, 0.03985611, 0.04197573, 0.0434302 ,\n",
            "       0.04403914, 0.04253425, 0.04053485, 0.044235  , 0.04630809,\n",
            "       0.04533651, 0.04715363, 0.04764814, 0.04613744, 0.04570304])]\n",
            "[0.045037860340526106]\n",
            "\n",
            "[array([0.00662652, 0.00748175, 0.00721801, 0.00577324, 0.00715207,\n",
            "       0.00579457, 0.01088519, 0.01049151, 0.01100542, 0.01211663,\n",
            "       0.01278955, 0.01273332, 0.01252582, 0.01341013, 0.01424207,\n",
            "       0.01518457, 0.01670691, 0.01990478, 0.01995326, 0.02173353,\n",
            "       0.02306387, 0.02077747, 0.02165789, 0.02164044, 0.02410915,\n",
            "       0.02375813, 0.02440779, 0.02557523, 0.0262249 , 0.02809631,\n",
            "       0.02945961, 0.02985329, 0.02999099, 0.02765997, 0.02709757,\n",
            "       0.02718097, 0.02937236, 0.02998905, 0.03131358, 0.03443582,\n",
            "       0.03860139, 0.0378218 , 0.03782374, 0.04083544, 0.04177794,\n",
            "       0.04110694, 0.04049413, 0.03985611, 0.04197573, 0.0434302 ,\n",
            "       0.04403914, 0.04253425, 0.04053485, 0.044235  , 0.04630809,\n",
            "       0.04533651, 0.04715363, 0.04764814, 0.04613744, 0.04570304]), array([0.00748175, 0.00721801, 0.00577324, 0.00715207, 0.00579457,\n",
            "       0.01088519, 0.01049151, 0.01100542, 0.01211663, 0.01278955,\n",
            "       0.01273332, 0.01252582, 0.01341013, 0.01424207, 0.01518457,\n",
            "       0.01670691, 0.01990478, 0.01995326, 0.02173353, 0.02306387,\n",
            "       0.02077747, 0.02165789, 0.02164044, 0.02410915, 0.02375813,\n",
            "       0.02440779, 0.02557523, 0.0262249 , 0.02809631, 0.02945961,\n",
            "       0.02985329, 0.02999099, 0.02765997, 0.02709757, 0.02718097,\n",
            "       0.02937236, 0.02998905, 0.03131358, 0.03443582, 0.03860139,\n",
            "       0.0378218 , 0.03782374, 0.04083544, 0.04177794, 0.04110694,\n",
            "       0.04049413, 0.03985611, 0.04197573, 0.0434302 , 0.04403914,\n",
            "       0.04253425, 0.04053485, 0.044235  , 0.04630809, 0.04533651,\n",
            "       0.04715363, 0.04764814, 0.04613744, 0.04570304, 0.04503786])]\n",
            "[0.045037860340526106, 0.041636358967562015]\n",
            "\n"
          ]
        }
      ]
    },
    {
      "cell_type": "code",
      "source": [
        "#Convert x_train and y_train to numpy arrays\n",
        "x_train = np.array(x_train)\n",
        "y_train = np.array(y_train)"
      ],
      "metadata": {
        "id": "JD1qypsKXHeV"
      },
      "execution_count": 71,
      "outputs": []
    },
    {
      "cell_type": "code",
      "source": [
        "#Reshape the data - convert 2d array to 3d array as LSTM models take in 3d array as input\n",
        "x_train = x_train.reshape(x_train.shape[0],x_train.shape[1],1)\n",
        "x_train.shape"
      ],
      "metadata": {
        "colab": {
          "base_uri": "https://localhost:8080/"
        },
        "id": "jCQDG8d7Xtb3",
        "outputId": "312c982e-f6d1-421b-beb1-03fee00d0b03"
      },
      "execution_count": 72,
      "outputs": [
        {
          "output_type": "execute_result",
          "data": {
            "text/plain": [
              "(2356, 60, 1)"
            ]
          },
          "metadata": {},
          "execution_count": 72
        }
      ]
    },
    {
      "cell_type": "code",
      "source": [
        "#Build the LSTM Model\n",
        "model = Sequential()\n",
        "model.add(LSTM(50,return_sequences=True,input_shape=(x_train.shape[1],1)))\n",
        "model.add(LSTM(50,return_sequences=False))\n",
        "model.add(Dense(25))\n",
        "model.add(Dense(1))"
      ],
      "metadata": {
        "id": "uPAcTkxTYmV0"
      },
      "execution_count": 73,
      "outputs": []
    },
    {
      "cell_type": "code",
      "source": [
        "#Compile the Model\n",
        "model.compile(optimizer='adam',loss='mean_squared_error')"
      ],
      "metadata": {
        "id": "vP2qR0R9hDYW"
      },
      "execution_count": 75,
      "outputs": []
    },
    {
      "cell_type": "code",
      "source": [
        "#Train the model\n",
        "model.fit(x_train,y_train,batch_size=1,epochs=1)"
      ],
      "metadata": {
        "colab": {
          "base_uri": "https://localhost:8080/"
        },
        "id": "85K6vMDchRxR",
        "outputId": "9209da18-21c3-49f7-86e3-745c0cfe6105"
      },
      "execution_count": 76,
      "outputs": [
        {
          "output_type": "stream",
          "name": "stdout",
          "text": [
            "2356/2356 [==============================] - 83s 34ms/step - loss: 7.4910e-04\n"
          ]
        },
        {
          "output_type": "execute_result",
          "data": {
            "text/plain": [
              "<keras.src.callbacks.History at 0x7eb83a907eb0>"
            ]
          },
          "metadata": {},
          "execution_count": 76
        }
      ]
    },
    {
      "cell_type": "code",
      "source": [
        "#Create the testing data set\n",
        "test_data = scaled_data[training_data_len-60:,:]\n",
        "#Create the datasets x_test, y_test\n",
        "x_test = []\n",
        "y_test = dataset[training_data_len:,:] #values that we want the model to predict\n",
        "for i in range(60,len(test_data)):\n",
        "  x_test.append(test_data[i-60:i,0])"
      ],
      "metadata": {
        "id": "jTHlbrUmixWv"
      },
      "execution_count": 79,
      "outputs": []
    },
    {
      "cell_type": "markdown",
      "source": [],
      "metadata": {
        "id": "NdWmqedXpzT1"
      }
    },
    {
      "cell_type": "code",
      "source": [
        "x_test = np.array(x_test)"
      ],
      "metadata": {
        "id": "Vfk_F6aBj9Ix"
      },
      "execution_count": 80,
      "outputs": []
    },
    {
      "cell_type": "code",
      "source": [
        "#Reshape the data\n",
        "x_test = np.reshape(x_test, (x_test.shape[0],x_test.shape[1],1))"
      ],
      "metadata": {
        "id": "gQKR8GzbkFt9"
      },
      "execution_count": 81,
      "outputs": []
    },
    {
      "cell_type": "code",
      "source": [
        "#Get the model's predicted price values\n",
        "predictions = model.predict(x_test)\n",
        "predictions = scaler.inverse_transform(predictions) #Unscaling values"
      ],
      "metadata": {
        "colab": {
          "base_uri": "https://localhost:8080/"
        },
        "id": "Ll7g46v6kXBw",
        "outputId": "0da3af3f-4bc8-449f-ff5e-b003b48abb20"
      },
      "execution_count": 83,
      "outputs": [
        {
          "output_type": "stream",
          "name": "stdout",
          "text": [
            "19/19 [==============================] - 2s 25ms/step\n"
          ]
        }
      ]
    },
    {
      "cell_type": "code",
      "source": [
        "#Get the rmse - good measure of how accurately the model predicts the response\n",
        "rmse = np.sqrt(np.mean((predictions-y_test)**2))\n",
        "rmse"
      ],
      "metadata": {
        "colab": {
          "base_uri": "https://localhost:8080/"
        },
        "id": "nAw9b56Rkulp",
        "outputId": "7d0a1f82-115a-495c-e273-52d9c6597db0"
      },
      "execution_count": 85,
      "outputs": [
        {
          "output_type": "execute_result",
          "data": {
            "text/plain": [
              "5.633607385546593"
            ]
          },
          "metadata": {},
          "execution_count": 85
        }
      ]
    },
    {
      "cell_type": "code",
      "source": [
        "#Predict the data\n",
        "train = data[:training_data_len]\n",
        "valid = data[training_data_len:]\n",
        "valid['Predictions'] = predictions\n",
        "print(valid)"
      ],
      "metadata": {
        "colab": {
          "base_uri": "https://localhost:8080/"
        },
        "id": "p8lInBRGlZWB",
        "outputId": "45f7237a-063d-48de-c001-77ab5a53b0de"
      },
      "execution_count": 101,
      "outputs": [
        {
          "output_type": "stream",
          "name": "stdout",
          "text": [
            "2416                                                  149.710007\n",
            "2417                                                  149.619995\n",
            "2418                                                  148.360001\n",
            "2419                                                  147.539993\n",
            "2420                                                  148.600006\n",
            "                                     ...                        \n",
            "3015                                                  186.190002\n",
            "3016                                                  185.589996\n",
            "3017                                                  185.919998\n",
            "3018                                                  183.630005\n",
            "Predictions    [[146.74704], [146.89056], [147.0864], [147.17...\n",
            "Name: Close, Length: 604, dtype: object\n"
          ]
        }
      ]
    },
    {
      "cell_type": "markdown",
      "source": [],
      "metadata": {
        "id": "9k1x57Vxo8wg"
      }
    },
    {
      "cell_type": "code",
      "source": [],
      "metadata": {
        "colab": {
          "base_uri": "https://localhost:8080/"
        },
        "id": "H4QDqdivo9uR",
        "outputId": "09cfadd8-62e4-4ef7-d896-8c251c52fc9b"
      },
      "execution_count": 100,
      "outputs": [
        {
          "output_type": "stream",
          "name": "stdout",
          "text": [
            "[\n"
          ]
        }
      ]
    }
  ]
}